{
  "nbformat": 4,
  "nbformat_minor": 0,
  "metadata": {
    "colab": {
      "provenance": [],
      "toc_visible": true
    },
    "kernelspec": {
      "name": "python3",
      "display_name": "Python 3"
    },
    "language_info": {
      "name": "python"
    }
  },
  "cells": [
    {
      "cell_type": "markdown",
      "source": [
        "# 課題 変数を使って四則演算しよう"
      ],
      "metadata": {
        "id": "6yrcgWADENJY"
      }
    },
    {
      "cell_type": "code",
      "execution_count": null,
      "metadata": {
        "colab": {
          "base_uri": "https://localhost:8080/"
        },
        "id": "5EDI39eNELh8",
        "outputId": "473e650b-dbd5-4837-e689-65b80449f1f9"
      },
      "outputs": [
        {
          "output_type": "stream",
          "name": "stdout",
          "text": [
            "上辺：10cm\n",
            "下辺：20cm\n",
            "高さ：5cm\n",
            "公式：台形の面積 =（上辺＋下辺）× 高さ ÷ 2\n",
            "公式：台形の面積75.0cm² = (上辺10cm + 下辺20cm）÷ 2\n",
            "答え75.0cm²\n"
          ]
        }
      ],
      "source": [
        "print(\"上辺：10cm\")\n",
        "print(\"下辺：20cm\")\n",
        "print(\"高さ：5cm\")\n",
        "print(\"公式：台形の面積 =（上辺＋下辺）× 高さ ÷ 2\")\n",
        "\n",
        "top    = 10\n",
        "bottom = 20\n",
        "height =  5\n",
        "answer = ((top + bottom) * height /2)\n",
        "print(f\"公式：台形の面積{answer}cm² = (上辺{top}cm + 下辺{bottom}cm）÷ 2\")\n",
        "print(f\"答え{answer}cm²\")"
      ]
    },
    {
      "cell_type": "code",
      "source": [],
      "metadata": {
        "id": "eQwqqbBMFUmo"
      },
      "execution_count": null,
      "outputs": []
    }
  ]
}