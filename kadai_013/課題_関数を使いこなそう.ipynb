{
  "nbformat": 4,
  "nbformat_minor": 0,
  "metadata": {
    "colab": {
      "provenance": []
    },
    "kernelspec": {
      "name": "python3",
      "display_name": "Python 3"
    },
    "language_info": {
      "name": "python"
    }
  },
  "cells": [
    {
      "cell_type": "code",
      "execution_count": 22,
      "metadata": {
        "colab": {
          "base_uri": "https://localhost:8080/"
        },
        "id": "_axISFWtSEdp",
        "outputId": "adf15323-e2f2-43ae-eaf1-648f40d94c7b"
      },
      "outputs": [
        {
          "output_type": "execute_result",
          "data": {
            "text/plain": [
              "121.0"
            ]
          },
          "metadata": {},
          "execution_count": 22
        }
      ],
      "source": [
        "def total_price(price, tax: int) -> int:\n",
        "\n",
        "\n",
        "    return price + (price * tax / 100)\n",
        "\n",
        "\n",
        "total_price(110, 10)\n",
        "\n"
      ]
    },
    {
      "cell_type": "code",
      "source": [],
      "metadata": {
        "id": "_No6jCE1YIWu"
      },
      "execution_count": null,
      "outputs": []
    }
  ]
}