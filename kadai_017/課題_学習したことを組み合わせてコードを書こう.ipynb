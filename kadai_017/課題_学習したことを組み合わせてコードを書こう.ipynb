{
  "nbformat": 4,
  "nbformat_minor": 0,
  "metadata": {
    "colab": {
      "provenance": []
    },
    "kernelspec": {
      "name": "python3",
      "display_name": "Python 3"
    },
    "language_info": {
      "name": "python"
    }
  },
  "cells": [
    {
      "cell_type": "code",
      "execution_count": 131,
      "metadata": {
        "colab": {
          "base_uri": "https://localhost:8080/"
        },
        "id": "Y1vqQl1-oMZI",
        "outputId": "a8902479-ae91-4264-8adb-45f4b6c72791"
      },
      "outputs": [
        {
          "output_type": "stream",
          "name": "stdout",
          "text": [
            "阿部は大人ではありません。\n",
            "井上は大人です。\n",
            "鈴木は大人です。\n",
            "佐藤は大人ではありません。\n"
          ]
        }
      ],
      "source": [
        "class Human:\n",
        "\n",
        "    def __init__(self, name, age):\n",
        "        self.name = name\n",
        "        self.age = age\n",
        "\n",
        "    def check_adult(self):\n",
        "        if self.age >= 20:\n",
        "            print(f\"{self.name}は大人です。\")\n",
        "\n",
        "        else:\n",
        "            print(f\"{self.name}は大人ではありません。\")\n",
        "\n",
        "\n",
        "user1 = Human(\"阿部\", 15)\n",
        "user2 = Human(\"井上\", 20)\n",
        "user3 = Human(\"鈴木\", 35)\n",
        "user4 = Human(\"佐藤\", 19)\n",
        "\n",
        "user_list = [user1, user2, user3, user4]\n",
        "\n",
        "for user in user_list:\n",
        "    user.check_adult()"
      ]
    }
  ]
}